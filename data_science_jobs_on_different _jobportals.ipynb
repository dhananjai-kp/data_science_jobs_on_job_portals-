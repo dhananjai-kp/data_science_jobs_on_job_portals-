{
 "cells": [
  {
   "cell_type": "markdown",
   "metadata": {},
   "source": [
    "### Task: To get the total number of data science jobs available on different job portals and compare them plotting a pie chart"
   ]
  },
  {
   "cell_type": "code",
   "execution_count": 3,
   "metadata": {},
   "outputs": [],
   "source": [
    "# importing the Libraries\n",
    "import requests\n",
    "import bs4\n",
    "from bs4 import BeautifulSoup\n",
    "import pandas as pd\n",
    "import time\n",
    "from selenium import webdriver"
   ]
  },
  {
   "cell_type": "code",
   "execution_count": 4,
   "metadata": {},
   "outputs": [],
   "source": [
    "# making a list of different urls\n",
    "urls = ['https://www.naukri.com/data-scientist-jobs',\n",
    "        'https://in.indeed.com/jobs?q=data+scientist&l=',\n",
    "        'https://www.monsterindia.com/srp/results?query=data%20scientist&searchId=97ffff66-df64-4a2d-8547-40b62f4401f0',\n",
    "        'https://www.shine.com/job-search/data-scientist-jobs',\n",
    "       ]"
   ]
  },
  {
   "cell_type": "code",
   "execution_count": 5,
   "metadata": {},
   "outputs": [],
   "source": [
    "# iterating on the url list to get the no of jobs available on their page\n",
    "for url in urls:\n",
    "    \n",
    "        driver = webdriver.Chrome(r'C:\\Users\\Admin\\Downloads\\chromedriver_win32\\chromedriver.exe')\n",
    "        driver.get(url)\n",
    "        page = driver.execute_script('return document.body.innerHTML')\n",
    "        soup = BeautifulSoup(''.join(page), 'html.parser')\n",
    "   \n",
    "        if url == urls[0]:   \n",
    "            naukri = int(soup.find('span',{'class':\"fleft grey-text mr-5 fs12\"}).text.replace(\"1 - 20 of \", \"\").replace(' ',''))\n",
    "\n",
    "        if url == urls[1]:  \n",
    "            indeed = int(soup.find('div',{'id':\"searchCountPages\"}).text.strip().replace('Page 1 of ','').replace(' jobs','').replace(',',''))\n",
    "\n",
    "        if url == urls[2]:\n",
    "            monster = int(soup.find('span',{'class':\"main-heading\"}).text.replace('Search Results - ',''))\n",
    "\n",
    "        if url == urls[3]:\n",
    "            shine = int(soup.select_one('div.force-overflow.base_color.pl-10.pt-10.pr-10 > div',{}).strong.text.replace('1-20 of ',''))"
   ]
  },
  {
   "cell_type": "code",
   "execution_count": 6,
   "metadata": {},
   "outputs": [
    {
     "data": {
      "text/plain": [
       "[16979, 2093, 61002, 35342]"
      ]
     },
     "execution_count": 6,
     "metadata": {},
     "output_type": "execute_result"
    }
   ],
   "source": [
    "# the number of jobs of different job prtals\n",
    "job_counts = [naukri,indeed,monster,shine]\n",
    "job_counts"
   ]
  },
  {
   "cell_type": "code",
   "execution_count": 8,
   "metadata": {},
   "outputs": [
    {
     "data": {
      "image/png": "[encoded data removed]",
      "text/plain": [
       "<Figure size 432x288 with 1 Axes>"
      ]
     },
     "metadata": {},
     "output_type": "display_data"
    }
   ],
   "source": [
    "# plotting the pie chart  \n",
    "import matplotlib.pyplot as plt\n",
    "websites = 'Naukri','Indeed','Monster','Shine'\n",
    "plt.pie(job_counts,labels=websites,autopct='%1.1f%%')\n",
    "plt.title('Data Science Jobs on different Job Potals')\n",
    "plt.axis('equal')\n",
    "plt.show()"
   ]
  },
  {
   "cell_type": "code",
   "execution_count": null,
   "metadata": {},
   "outputs": [],
   "source": []
  }
 ],
 "metadata": {
  "kernelspec": {
   "display_name": "Python 3",
   "language": "python",
   "name": "python3"
  },
  "language_info": {
   "codemirror_mode": {
    "name": "ipython",
    "version": 3
   },
   "file_extension": ".py",
   "mimetype": "text/x-python",
   "name": "python",
   "nbconvert_exporter": "python",
   "pygments_lexer": "ipython3",
   "version": "3.8.5"
  }
 },
 "nbformat": 4,
 "nbformat_minor": 4
}
